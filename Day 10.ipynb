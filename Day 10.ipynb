{
 "cells": [
  {
   "cell_type": "code",
   "execution_count": 1,
   "metadata": {},
   "outputs": [],
   "source": [
    "day_10_input_raw = \"\"\"77\n",
    "10\n",
    "143\n",
    "46\n",
    "79\n",
    "97\n",
    "54\n",
    "116\n",
    "60\n",
    "91\n",
    "80\n",
    "132\n",
    "20\n",
    "154\n",
    "53\n",
    "14\n",
    "103\n",
    "31\n",
    "65\n",
    "110\n",
    "43\n",
    "38\n",
    "47\n",
    "120\n",
    "112\n",
    "87\n",
    "24\n",
    "95\n",
    "33\n",
    "104\n",
    "73\n",
    "22\n",
    "66\n",
    "137\n",
    "21\n",
    "109\n",
    "118\n",
    "63\n",
    "55\n",
    "124\n",
    "146\n",
    "148\n",
    "84\n",
    "86\n",
    "147\n",
    "125\n",
    "23\n",
    "85\n",
    "117\n",
    "71\n",
    "48\n",
    "136\n",
    "151\n",
    "130\n",
    "83\n",
    "56\n",
    "140\n",
    "9\n",
    "49\n",
    "113\n",
    "131\n",
    "133\n",
    "74\n",
    "37\n",
    "127\n",
    "34\n",
    "32\n",
    "106\n",
    "1\n",
    "78\n",
    "11\n",
    "72\n",
    "40\n",
    "96\n",
    "17\n",
    "64\n",
    "92\n",
    "102\n",
    "123\n",
    "126\n",
    "90\n",
    "105\n",
    "57\n",
    "99\n",
    "27\n",
    "70\n",
    "98\n",
    "111\n",
    "30\n",
    "50\n",
    "67\n",
    "2\n",
    "155\n",
    "5\n",
    "119\n",
    "8\n",
    "39\"\"\"\n",
    "\n",
    "day_10_input = [int(x) for x in day_10_input_raw.split(\"\\n\")]"
   ]
  },
  {
   "cell_type": "code",
   "execution_count": 2,
   "metadata": {},
   "outputs": [
    {
     "name": "stdout",
     "output_type": "stream",
     "text": [
      "2040\n"
     ]
    }
   ],
   "source": [
    "from collections import Counter\n",
    "\n",
    "def day_10_part1():\n",
    "    s = sorted(day_10_input)\n",
    "    diffs = sorted([s[i+1] - s[i] for i in range(len(s) - 1)])\n",
    "    c = Counter(diffs)\n",
    "    return (c[1] + 1) * (c[3] + 1)\n",
    "\n",
    "print(day_10_part1()) # should be 2040"
   ]
  },
  {
   "cell_type": "code",
   "execution_count": 3,
   "metadata": {},
   "outputs": [
    {
     "name": "stdout",
     "output_type": "stream",
     "text": [
      "28346956187648\n"
     ]
    }
   ],
   "source": [
    "s = sorted(day_10_input)\n",
    "\n",
    "def DFS(g, v, MEMO_PAD):\n",
    "    if v in MEMO_PAD: return MEMO_PAD[v]\n",
    "    \n",
    "    routes = 0\n",
    "    for e in g[v]:\n",
    "        routes += DFS(g, e, MEMO_PAD)\n",
    "        \n",
    "    MEMO_PAD[v] = routes\n",
    "    return routes\n",
    "\n",
    "def day_10_part2():\n",
    "    #build a graph\n",
    "    g = dict()\n",
    "    MEMO_PAD = dict()\n",
    "    MEMO_PAD[max(s)] = 1\n",
    "\n",
    "    g[0] = [x for x in range(1, 4) if x in s]\n",
    "    for i in s:\n",
    "    #list the edges and add them to the graph\n",
    "        g[i] = [x for x in range(i + 1, i + 4) if x in s]\n",
    "    \n",
    "    return DFS(g, 0, MEMO_PAD)\n",
    "\n",
    "\n",
    "print(day_10_part2()) # should be 28346956187648"
   ]
  },
  {
   "cell_type": "code",
   "execution_count": 4,
   "metadata": {},
   "outputs": [
    {
     "name": "stdout",
     "output_type": "stream",
     "text": [
      "25.6 µs ± 910 ns per loop (mean ± std. dev. of 7 runs, 10000 loops each)\n",
      "270 µs ± 3.86 µs per loop (mean ± std. dev. of 7 runs, 1000 loops each)\n"
     ]
    }
   ],
   "source": [
    "%timeit day_10_part1()\n",
    "%timeit day_10_part2()"
   ]
  },
  {
   "cell_type": "code",
   "execution_count": null,
   "metadata": {},
   "outputs": [],
   "source": []
  }
 ],
 "metadata": {
  "kernelspec": {
   "display_name": "Python 3",
   "language": "python",
   "name": "python3"
  },
  "language_info": {
   "codemirror_mode": {
    "name": "ipython",
    "version": 3
   },
   "file_extension": ".py",
   "mimetype": "text/x-python",
   "name": "python",
   "nbconvert_exporter": "python",
   "pygments_lexer": "ipython3",
   "version": "3.6.4"
  }
 },
 "nbformat": 4,
 "nbformat_minor": 2
}

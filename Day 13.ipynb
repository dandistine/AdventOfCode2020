{
 "cells": [
  {
   "cell_type": "code",
   "execution_count": 7,
   "metadata": {},
   "outputs": [],
   "source": [
    "day_13_input_raw = \"\"\"1003681\n",
    "23,x,x,x,x,x,x,x,x,x,x,x,x,x,x,x,x,37,x,x,x,x,x,431,x,x,x,x,x,x,x,x,x,x,x,x,13,17,x,x,x,x,19,x,x,x,x,x,x,x,x,x,x,x,409,x,x,x,x,x,x,x,x,x,41,x,x,x,x,x,x,x,x,x,x,x,x,x,x,x,x,x,x,29\"\"\"\n",
    "\n",
    "day_13_input = day_13_input_raw.split(\"\\n\")\n",
    "\n",
    "timestamp = int(day_13_input[0])\n",
    "busses = [int(x)for x in day_13_input[1].split(\",\")  if x != 'x']"
   ]
  },
  {
   "cell_type": "code",
   "execution_count": 8,
   "metadata": {},
   "outputs": [
    {
     "name": "stdout",
     "output_type": "stream",
     "text": [
      "2045\n"
     ]
    }
   ],
   "source": [
    "def day_13_part1():\n",
    "    departure = [(x - timestamp % x, x) for x in busses]\n",
    "    departure.sort()\n",
    "    return departure[0][0] * departure[0][1]\n",
    "\n",
    "print(day_13_part1()) #should be 2045"
   ]
  },
  {
   "cell_type": "code",
   "execution_count": 9,
   "metadata": {},
   "outputs": [
    {
     "name": "stdout",
     "output_type": "stream",
     "text": [
      "402251700208309\n"
     ]
    }
   ],
   "source": [
    "from functools import reduce\n",
    "from operator import mul\n",
    "\n",
    "busses_p2_ = []\n",
    "for i, b in enumerate(day_13_input[1].split(\",\")):\n",
    "    if b != 'x':\n",
    "        busses_p2_.append(((int(b) - i % int(b)) % int(b), int(b)))\n",
    "\n",
    "def inv(a, n):\n",
    "    t = 0   \n",
    "    newt = 1\n",
    "    r = n   \n",
    "    newr = a\n",
    "    \n",
    "    while newr != 0:\n",
    "        q = r // newr\n",
    "        (t, newt) = (newt, t - q * newt)\n",
    "        (r, newr) = (newr, r - q * newr)\n",
    "\n",
    "    if t < 0:\n",
    "        t += n\n",
    "        \n",
    "    return t\n",
    "\n",
    "\n",
    "#basically just chinese remainder theorem\n",
    "def day_13_part2():\n",
    "    N = reduce(mul, [x[1] for x in busses_p2_])\n",
    "    return sum([v[0] * inv(N//v[1], v[1]) * (N // v[1]) for v in busses_p2_]) % N\n",
    "\n",
    "\n",
    "print(day_13_part2()) # should be 402251700208309"
   ]
  },
  {
   "cell_type": "code",
   "execution_count": 10,
   "metadata": {},
   "outputs": [
    {
     "name": "stdout",
     "output_type": "stream",
     "text": [
      "1.88 µs ± 13.2 ns per loop (mean ± std. dev. of 7 runs, 1000000 loops each)\n",
      "17.8 µs ± 228 ns per loop (mean ± std. dev. of 7 runs, 100000 loops each)\n"
     ]
    }
   ],
   "source": [
    "%timeit day_13_part1()\n",
    "%timeit day_13_part2()"
   ]
  }
 ],
 "metadata": {
  "kernelspec": {
   "display_name": "Python 3",
   "language": "python",
   "name": "python3"
  },
  "language_info": {
   "codemirror_mode": {
    "name": "ipython",
    "version": 3
   },
   "file_extension": ".py",
   "mimetype": "text/x-python",
   "name": "python",
   "nbconvert_exporter": "python",
   "pygments_lexer": "ipython3",
   "version": "3.6.4"
  }
 },
 "nbformat": 4,
 "nbformat_minor": 2
}

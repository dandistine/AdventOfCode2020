{
 "cells": [
  {
   "cell_type": "code",
   "execution_count": 101,
   "metadata": {},
   "outputs": [],
   "source": [
    "day_15_input = [0,8,15,2,12,1,4]"
   ]
  },
  {
   "cell_type": "code",
   "execution_count": 102,
   "metadata": {},
   "outputs": [
    {
     "name": "stdout",
     "output_type": "stream",
     "text": [
      "289\n",
      "1505722\n"
     ]
    }
   ],
   "source": [
    "def day_15_part1():\n",
    "    n_dict = {0 : 0, 8 : 1, 15 : 2, 2 : 3, 12 : 4, 1 : 5, 4: 6}\n",
    "    speak = 4\n",
    "    was_new = True\n",
    "\n",
    "    for i in range(7, 2020):\n",
    "        last = speak\n",
    "\n",
    "        if(was_new):\n",
    "            speak = 0\n",
    "        else:\n",
    "            speak = i - n_dict[last] - 1\n",
    "\n",
    "        n_dict[last] = i - 1\n",
    "\n",
    "        was_new = not speak in n_dict\n",
    "\n",
    "    return(speak) #should be 289\n",
    "\n",
    "def day_15_part2():\n",
    "    n_dict = {0 : 0, 8 : 1, 15 : 2, 2 : 3, 12 : 4, 1 : 5}\n",
    "    speak = 4\n",
    "\n",
    "    for i in range(6, 30000000 - 1):\n",
    "        last = speak\n",
    "        speak = i - n_dict[last] if speak in n_dict else 0\n",
    "        n_dict[last] = i\n",
    "\n",
    "\n",
    "    return(speak) #should be 289\n",
    "\n",
    "print(day_15_part1()) #should be 289\n",
    "print(day_15_part2()) #should be 1505722"
   ]
  },
  {
   "cell_type": "code",
   "execution_count": 103,
   "metadata": {},
   "outputs": [
    {
     "name": "stdout",
     "output_type": "stream",
     "text": [
      "289\n",
      "1505722\n"
     ]
    }
   ],
   "source": [
    "def day_15_part1_():\n",
    "    #The last time we saw a particular value\n",
    "    last_seen = [0]*2020\n",
    "    \n",
    "    for i in range(len(day_15_input) - 1):\n",
    "        last_seen[day_15_input[i]] = i + 1\n",
    "\n",
    "    last = day_15_input[-1]\n",
    "\n",
    "    for i in range(7, 2020):\n",
    "        temp = last_seen[last]\n",
    "        last_seen[last] = i\n",
    "        last = i - temp if temp else temp\n",
    "\n",
    "    return(last) #should be 1505722\n",
    "\n",
    "def day_15_part2_():\n",
    "    #The last time we saw a particular value\n",
    "    last_seen = [0]*30000000\n",
    "    \n",
    "    for i in range(len(day_15_input) - 1):\n",
    "        last_seen[day_15_input[i]] = i + 1\n",
    "\n",
    "    last = day_15_input[-1]\n",
    "\n",
    "    for i in range(7, 30000000):\n",
    "        temp = last_seen[last]\n",
    "        last_seen[last] = i\n",
    "        last = i - temp if temp else temp\n",
    "\n",
    "    return(last) #should be 1505722\n",
    "\n",
    "print(day_15_part1_())\n",
    "print(day_15_part2_())"
   ]
  },
  {
   "cell_type": "code",
   "execution_count": 104,
   "metadata": {},
   "outputs": [
    {
     "name": "stdout",
     "output_type": "stream",
     "text": [
      "406 µs ± 4.61 µs per loop (mean ± std. dev. of 7 runs, 1000 loops each)\n",
      "9.56 s ± 128 ms per loop (mean ± std. dev. of 7 runs, 1 loop each)\n",
      "206 µs ± 7.77 µs per loop (mean ± std. dev. of 7 runs, 1000 loops each)\n",
      "5.2 s ± 71.7 ms per loop (mean ± std. dev. of 7 runs, 1 loop each)\n"
     ]
    }
   ],
   "source": [
    "%timeit day_15_part1()\n",
    "%timeit day_15_part2()\n",
    "%timeit day_15_part1_()\n",
    "%timeit day_15_part2_()"
   ]
  }
 ],
 "metadata": {
  "kernelspec": {
   "display_name": "Python 3",
   "language": "python",
   "name": "python3"
  },
  "language_info": {
   "codemirror_mode": {
    "name": "ipython",
    "version": 3
   },
   "file_extension": ".py",
   "mimetype": "text/x-python",
   "name": "python",
   "nbconvert_exporter": "python",
   "pygments_lexer": "ipython3",
   "version": "3.6.4"
  }
 },
 "nbformat": 4,
 "nbformat_minor": 2
}

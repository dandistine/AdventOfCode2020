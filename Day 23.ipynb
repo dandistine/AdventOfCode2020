{
 "cells": [
  {
   "cell_type": "code",
   "execution_count": 1,
   "metadata": {},
   "outputs": [],
   "source": [
    "day_23_input = [7, 9, 2, 8, 4, 5, 1, 3, 6]"
   ]
  },
  {
   "cell_type": "code",
   "execution_count": 2,
   "metadata": {},
   "outputs": [
    {
     "name": "stdout",
     "output_type": "stream",
     "text": [
      "98742365\n"
     ]
    }
   ],
   "source": [
    "def day_23_part1():\n",
    "    cups = [x for x in day_23_input]\n",
    "    \n",
    "    #do 100 moves\n",
    "    for i in range(100):\n",
    "        label = cups[0]\n",
    "        dest = label - 1\n",
    "        pick = cups[1:4]\n",
    "        \n",
    "        for x in range(9):\n",
    "            #if the label is too small, wrap it\n",
    "            if(dest < 1):\n",
    "                dest = 9\n",
    "            \n",
    "            #if the label in in our target list, find where it should go\n",
    "            if(dest in cups[4:]):\n",
    "                dest = cups.index(dest) + 1\n",
    "                break\n",
    "                \n",
    "            dest -= 1\n",
    "\n",
    "        cups[dest:dest] = pick\n",
    "        cups = cups[4:] + cups[:1]\n",
    "    \n",
    "    r = cups.index(1)\n",
    "    cups = cups[r:] + cups[:r]\n",
    "    return \"\".join(str(x) for x in cups[1:])\n",
    "print(day_23_part1()) #should be 98742365\n",
    "#%timeit day_23_part1()"
   ]
  },
  {
   "cell_type": "code",
   "execution_count": 3,
   "metadata": {},
   "outputs": [
    {
     "name": "stdout",
     "output_type": "stream",
     "text": [
      "294320513093\n",
      "18.9 s ± 190 ms per loop (mean ± std. dev. of 7 runs, 1 loop each)\n"
     ]
    }
   ],
   "source": [
    "class Node():\n",
    "    def __init__(self, v):\n",
    "        self.val = v\n",
    "        self.next = None\n",
    "        \n",
    "class LinkedList():\n",
    "    def __init__(self, L):\n",
    "        \n",
    "        #dict with node val -> node to help find\n",
    "        #where a node is faster\n",
    "        self.nodes = {}\n",
    "        self.node_count = len(L)\n",
    "        \n",
    "        \n",
    "        self.head = Node(L[0])\n",
    "        self.nodes[L[0]] = self.head\n",
    "        curr = self.head\n",
    "        \n",
    "        for item in L[1:]:\n",
    "            n = Node(item)\n",
    "            self.nodes[item] = n\n",
    "            curr.next = n\n",
    "            curr = n\n",
    "            \n",
    "        #This allows the list to loop around easily\n",
    "        curr.next = self.head\n",
    "        \n",
    "    def __iter__(self):\n",
    "        node = self.head\n",
    "        yield node\n",
    "        node = node.next\n",
    "        while node is not None and node is not self.head:\n",
    "            yield node\n",
    "            node = node.next\n",
    "\n",
    "    def __repr__(self):\n",
    "        node = self.head\n",
    "        nodes = [self.head.val]\n",
    "        node = self.head.next\n",
    "        \n",
    "        while node is not None and node is not self.head:\n",
    "            nodes.append(node.val)\n",
    "            node = node.next\n",
    "            \n",
    "        return nodes.__repr__()\n",
    "\n",
    "def day_23_part2():\n",
    "    cups = LinkedList([x for x in day_23_input] + list(range(10, 1000001)))\n",
    "    \n",
    "    #do 10000000 moves\n",
    "    for i in range(10000000):\n",
    "        #This is the label we have currently picked\n",
    "        label = cups.head.val\n",
    "        #the destination label we want to insert on\n",
    "        dest = label - 1\n",
    "        #the three values we are moving\n",
    "        picked_nodes = [cups.head.next, cups.head.next.next, cups.head.next.next.next]\n",
    "        picked_vals = [x.val for x in picked_nodes]\n",
    "        \n",
    "        #find the destination\n",
    "        while dest in picked_vals:\n",
    "            dest -= 1\n",
    "        \n",
    "        #if we decremented dest down to 0, max it and try again\n",
    "        if dest == 0:\n",
    "            dest = cups.node_count\n",
    "            while dest in picked_vals:\n",
    "                dest -= 1\n",
    "        insert_on = cups.nodes[dest]\n",
    "        \n",
    "        #move the 3 picked nodes around\n",
    "        cups.head.next = picked_nodes[2].next\n",
    "        picked_nodes[2].next = insert_on.next\n",
    "        insert_on.next = picked_nodes[0]\n",
    "        \n",
    "        cups.head = cups.head.next\n",
    "\n",
    "    n = cups.nodes[1]\n",
    "    n1 = n.next.val\n",
    "    n2 = n.next.next.val\n",
    "    return n1 * n2\n",
    "\n",
    "print(day_23_part2()) # should be 294320513093\n",
    "%timeit day_23_part2()"
   ]
  },
  {
   "cell_type": "code",
   "execution_count": null,
   "metadata": {},
   "outputs": [],
   "source": []
  }
 ],
 "metadata": {
  "kernelspec": {
   "display_name": "Python 3",
   "language": "python",
   "name": "python3"
  },
  "language_info": {
   "codemirror_mode": {
    "name": "ipython",
    "version": 3
   },
   "file_extension": ".py",
   "mimetype": "text/x-python",
   "name": "python",
   "nbconvert_exporter": "python",
   "pygments_lexer": "ipython3",
   "version": "3.6.4"
  }
 },
 "nbformat": 4,
 "nbformat_minor": 2
}

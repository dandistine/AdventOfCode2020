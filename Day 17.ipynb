{
 "cells": [
  {
   "cell_type": "code",
   "execution_count": 1,
   "metadata": {},
   "outputs": [],
   "source": [
    "day_17_input_raw = \"\"\".#######\n",
    "#######.\n",
    "###.###.\n",
    "#....###\n",
    ".#..##..\n",
    "#.#.###.\n",
    "###..###\n",
    ".#.#.##.\"\"\"\n",
    "\n",
    "# day_17_input_raw = \"\"\".#.\n",
    "# ..#\n",
    "# ###\"\"\"\n",
    "\n",
    "day_17_input = day_17_input_raw.split(\"\\n\")"
   ]
  },
  {
   "cell_type": "code",
   "execution_count": 2,
   "metadata": {},
   "outputs": [
    {
     "name": "stdout",
     "output_type": "stream",
     "text": [
      "395\n"
     ]
    }
   ],
   "source": [
    "\n",
    "def day_17_part1():\n",
    "    active = []\n",
    "    new_active = []\n",
    "    x_set = set()\n",
    "    y_set = set()\n",
    "    z_set = set()\n",
    "\n",
    "\n",
    "    for y in range(len(day_17_input)):\n",
    "        for x in range(len(day_17_input[0])):\n",
    "            if day_17_input[y][x] == '#':\n",
    "                active.append([x, y, 0])\n",
    "                x_set.add(x)\n",
    "                y_set.add(y)\n",
    "                z_set.add(0)\n",
    "        \n",
    "    for i in range(6):\n",
    "        min_x, max_x = min(x_set) - 1, max(x_set) + 1\n",
    "        min_y, max_y = min(y_set) - 1, max(y_set) + 1\n",
    "        min_z, max_z = min(z_set) - 1, max(z_set) + 1\n",
    "    \n",
    "        x_set = set()\n",
    "        y_set = set()\n",
    "        z_set = set()\n",
    "    \n",
    "        for z in range(min_z, max_z + 1):\n",
    "            for y in range(min_y, max_y + 1):\n",
    "                for x in range(min_x, max_x + 1):\n",
    "                    count = 0\n",
    "                    for i in range(-1, 2):\n",
    "                        for j in range(-1, 2):\n",
    "                            for k in range(-1, 2):\n",
    "                                if [x + k, y + j, z + i] in active:\n",
    "                                    count += 1\n",
    "                    #added one to count since if we're active, we counted ourselves above\n",
    "                    if [x, y, z] in active and (count == 3 or count == 4):\n",
    "                        new_active.append([x, y, z])\n",
    "                        x_set.add(x)\n",
    "                        y_set.add(y)\n",
    "                        z_set.add(z)\n",
    "                    elif count == 3: #inactive, and therefor did nto count ourself\n",
    "                        new_active.append([x, y, z])\n",
    "                        x_set.add(x)\n",
    "                        y_set.add(y)\n",
    "                        z_set.add(z)\n",
    "    \n",
    "        active = new_active\n",
    "        new_active = []\n",
    "\n",
    "    return len(active)\n",
    "\n",
    "print(day_17_part1()) #should be 395\n",
    "\n",
    "#find min / max x, y, z\n"
   ]
  },
  {
   "cell_type": "code",
   "execution_count": 3,
   "metadata": {},
   "outputs": [
    {
     "name": "stdout",
     "output_type": "stream",
     "text": [
      "2296\n"
     ]
    }
   ],
   "source": [
    "from itertools import product\n",
    "from collections import Counter\n",
    "from typing import NamedTuple\n",
    "\n",
    "class Cell(NamedTuple):\n",
    "    x: int\n",
    "    y: int\n",
    "    z: int = 0\n",
    "    w: int = 0\n",
    "        \n",
    "    #simple addition function to added the two tuples together\n",
    "    def __add__(self, o):\n",
    "        return Cell(*[x[0] + x[1] for x in zip(self, o)])\n",
    "        #return Cell(self.x + o.x, self.y + o.y, self.z + o.z, self.w + o.w, self.u + o.u, self.v + o.v)\n",
    "\n",
    "def day_17_part2_():\n",
    "    #Grab the cells that start active\n",
    "    active = {Cell(x, y) for y, r in enumerate(day_17_input) for x, i in enumerate(day_17_input[y]) if i == '#'}\n",
    "    #print(active)\n",
    "    #Grab the list of offsets so we only have to do it once\n",
    "    #need to remove 0, 0, otherwise it will over count\n",
    "    neighbors = {Cell(*p) for p in product(range(-1, 2), repeat=4)} - {Cell(0, 0)}\n",
    "    \n",
    "    for i in range(6):\n",
    "        #adj_count counts the number of times a given cell was adjacent to another, active cell\n",
    "        adj_count = Counter(target + offset for target in active for offset in neighbors)\n",
    "        #if a cell is neighbored by exactly 3 active cells, it is active regardless of its current state\n",
    "        #but if a cell is already active, it may remain active with only two neighbors\n",
    "        active = {*{c for c, i in adj_count.items() if i == 3}, *{c for c in active if adj_count[c] == 2}}\n",
    "\n",
    "    return len(active)\n",
    "\n",
    "print(day_17_part2_()) #should be 2296"
   ]
  },
  {
   "cell_type": "code",
   "execution_count": 4,
   "metadata": {},
   "outputs": [
    {
     "name": "stdout",
     "output_type": "stream",
     "text": [
      "651 ms ± 5.76 ms per loop (mean ± std. dev. of 7 runs, 1 loop each)\n"
     ]
    }
   ],
   "source": [
    "#%timeit day_17_part1()\n",
    "%timeit day_17_part2_()\n"
   ]
  },
  {
   "cell_type": "code",
   "execution_count": 10,
   "metadata": {},
   "outputs": [
    {
     "name": "stdout",
     "output_type": "stream",
     "text": [
      "2296\n",
      "395\n"
     ]
    }
   ],
   "source": [
    "from itertools import product\n",
    "from collections import Counter\n",
    "from typing import NamedTuple\n",
    "\n",
    "class Cell3(NamedTuple):\n",
    "    x: int\n",
    "    y: int\n",
    "    z: int = 0\n",
    "        \n",
    "    #simple addition function to added the two tuples together\n",
    "    def __add__(self, o):\n",
    "        return Cell3(*[x[0] + x[1] for x in zip(self, o)])\n",
    "        #return Cell(self.x + o.x, self.y + o.y, self.z + o.z, self.w + o.w, self.u + o.u, self.v + o.v)\n",
    "\n",
    "class Cell4(NamedTuple):\n",
    "    x: int\n",
    "    y: int\n",
    "    z: int = 0\n",
    "    w: int = 0\n",
    "        \n",
    "    #simple addition function to added the two tuples together\n",
    "    def __add__(self, o):\n",
    "        return Cell4(*[x[0] + x[1] for x in zip(self, o)])\n",
    "        #return Cell(self.x + o.x, self.y + o.y, self.z + o.z, self.w + o.w)\n",
    "\n",
    "def day_17_part2__(rcount = 4):\n",
    "    #Grab the cells that start active\n",
    "    active = {Cell4(x, y) for y, r in enumerate(day_17_input) for x, i in enumerate(day_17_input[y]) if i == '#'}\n",
    "    #print(active)\n",
    "    #Grab the list of offsets so we only have to do it once\n",
    "    #need to remove 0, 0, otherwise it will over count\n",
    "    neighbors = {Cell4(*p) for p in product(range(-1, 2), repeat=rcount)} - {Cell4(0, 0)}\n",
    "    \n",
    "    for i in range(6):\n",
    "        #adj_count counts the number of times a given cell was adjacent to another, active cell\n",
    "        adj_count = Counter(target + offset for target in active for offset in neighbors)\n",
    "        #if a cell is neighbored by exactly 3 active cells, it is active regardless of its current state\n",
    "        #but if a cell is already active, it may remain active with only two neighbors\n",
    "        active = {*{c for c, i in adj_count.items() if i == 3}, *{c for c in active if adj_count[c] == 2}}\n",
    "\n",
    "    return len(active)\n",
    "\n",
    "print(day_17_part2__(4)) #should be 2296\n",
    "print(day_17_part2__(3)) #should be 395"
   ]
  },
  {
   "cell_type": "code",
   "execution_count": 7,
   "metadata": {},
   "outputs": [
    {
     "name": "stdout",
     "output_type": "stream",
     "text": [
      "508 ms ± 9.49 ms per loop (mean ± std. dev. of 7 runs, 1 loop each)\n"
     ]
    }
   ],
   "source": [
    "class Cell(NamedTuple):\n",
    "    x: int\n",
    "    y: int\n",
    "    z: int = 0\n",
    "    w: int = 0\n",
    "    def __add__(self, o):\n",
    "        return Cell(*[x[0] + x[1] for x in zip(self, o)])\n",
    "\n",
    "def day_17_part2___():\n",
    "    active = {(x, y, 0, 0) for y, r in enumerate(day_17_input) for x, i in enumerate(day_17_input[y]) if i == '#'}\n",
    "    neighbors = {(p) for p in product(range(-1, 2), repeat=4)} - {(0, 0, 0, 0)}\n",
    "    \n",
    "    for i in range(6):\n",
    "        adj_count = Counter(tuple(map(sum, zip(target, offset))) for target in active for offset in neighbors)\n",
    "        active = {*{c for c, i in adj_count.items() if i == 3}, *{c for c in active if adj_count[c] == 2}}\n",
    "\n",
    "    return len(active)\n",
    "\n",
    "day_17_part2___()\n",
    "%timeit day_17_part2___()"
   ]
  },
  {
   "cell_type": "code",
   "execution_count": 8,
   "metadata": {},
   "outputs": [
    {
     "name": "stdout",
     "output_type": "stream",
     "text": [
      "1.43 s ± 20.8 ms per loop (mean ± std. dev. of 7 runs, 1 loop each)\n",
      "665 ms ± 25.6 ms per loop (mean ± std. dev. of 7 runs, 1 loop each)\n",
      "644 ms ± 6.72 ms per loop (mean ± std. dev. of 7 runs, 1 loop each)\n",
      "502 ms ± 1.44 ms per loop (mean ± std. dev. of 7 runs, 1 loop each)\n"
     ]
    }
   ],
   "source": [
    "%timeit day_17_part1()\n",
    "%timeit day_17_part2_()\n",
    "%timeit day_17_part2__()\n",
    "%timeit day_17_part2___()"
   ]
  },
  {
   "cell_type": "code",
   "execution_count": null,
   "metadata": {},
   "outputs": [],
   "source": []
  }
 ],
 "metadata": {
  "kernelspec": {
   "display_name": "Python 3",
   "language": "python",
   "name": "python3"
  },
  "language_info": {
   "codemirror_mode": {
    "name": "ipython",
    "version": 3
   },
   "file_extension": ".py",
   "mimetype": "text/x-python",
   "name": "python",
   "nbconvert_exporter": "python",
   "pygments_lexer": "ipython3",
   "version": "3.6.4"
  }
 },
 "nbformat": 4,
 "nbformat_minor": 2
}

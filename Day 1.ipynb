{
 "cells": [
  {
   "cell_type": "code",
   "execution_count": 4,
   "metadata": {},
   "outputs": [],
   "source": [
    "day_1_input = [1778,1845,1813,1889,1939,1635,1443,796,1799,938,\n",
    "               1488,1922,1909,1258,1659,1959,1557,1085,1379,1174,\n",
    "               1782,1482,1702,1180,1992,1815,1802,215,1649,782,\n",
    "               1847,1673,1823,1836,1447,1603,1767,1891,1964,1881,\n",
    "               1637,1229,1994,1901,1583,1918,1415,1666,1155,1446,\n",
    "               1315,1345,1948,1427,1242,1088,807,1747,1514,1351,\n",
    "               1791,1612,1550,1926,1455,85,1594,1965,1884,1677,\n",
    "               1960,1631,1585,1472,1263,1566,1998,1698,1968,1927,\n",
    "               1378,1346,1710,1921,1827,1869,1187,1985,1323,1225,\n",
    "               1474,1179,1580,1098,1737,1483,1665,1445,1979,1754,\n",
    "               1854,1897,1405,1912,1614,1390,1773,1493,1333,1758,\n",
    "               1867,1586,1347,1723,1285,394,1743,1252,320,1547,\n",
    "               1804,1899,1526,1739,1533,1938,1081,1465,1920,1265,\n",
    "               1470,1792,1118,1842,1204,1760,1663,893,1853,1244,\n",
    "               1256,1428,1334,1967,1249,1752,1124,1725,1949,1340,\n",
    "               1205,1584,548,1947,2002,1993,1931,1236,1154,1572,\n",
    "               1650,1678,1944,1868,1129,1911,1106,1900,1240,1955,\n",
    "               1219,1893,1459,1556,1173,1924,1568,1950,1303,1886,\n",
    "               1365,1402,1711,1706,1671,1866,1403,1816,1717,1674,\n",
    "               1487,1840,1951,1255,1786,1111,1280,1625,1478,1453]\n",
    "\n",
    "day_1_input.sort()"
   ]
  },
  {
   "cell_type": "code",
   "execution_count": 5,
   "metadata": {},
   "outputs": [
    {
     "name": "stdout",
     "output_type": "stream",
     "text": [
      "806656\n",
      "806656\n",
      "230608320\n",
      "230608320\n",
      "89.9 µs ± 928 ns per loop (mean ± std. dev. of 7 runs, 10000 loops each)\n",
      "25.3 µs ± 665 ns per loop (mean ± std. dev. of 7 runs, 10000 loops each)\n",
      "6.67 ms ± 105 µs per loop (mean ± std. dev. of 7 runs, 100 loops each)\n",
      "134 µs ± 1.19 µs per loop (mean ± std. dev. of 7 runs, 10000 loops each)\n"
     ]
    }
   ],
   "source": [
    "\n",
    "from itertools import combinations\n",
    "\n",
    "\n",
    "def day1_part1():\n",
    "    for x in combinations(day_1_input, 2):\n",
    "        if(x[0] + x[1] == 2020):\n",
    "            return x[0] * x[1]\n",
    "\n",
    "def day1_part1_():\n",
    "    for x in range(len(day_1_input)):\n",
    "        end = len(day_1_input) - 1\n",
    "        \n",
    "        while x < end:\n",
    "            val = day_1_input[x] + day_1_input[end]\n",
    "            \n",
    "            if val == 2020:\n",
    "                return day_1_input[x] * day_1_input[end]\n",
    "            \n",
    "            if val > 2020:\n",
    "                end -= 1\n",
    "            else:\n",
    "                x += 1\n",
    "        \n",
    "def day1_part2():\n",
    "    for x in combinations(day_1_input, 3):\n",
    "        if(sum(x) == 2020):\n",
    "            return x[0] * x[1] * x[2]\n",
    "\n",
    "\n",
    "def day1_part2_():\n",
    "    for x in range(len(day_1_input)):\n",
    "        begin = x + 1\n",
    "        end = len(day_1_input) - 1\n",
    "        \n",
    "        while begin < end:\n",
    "            val = day_1_input[x] + day_1_input[begin] + day_1_input[end]\n",
    "            \n",
    "            if val == 2020:\n",
    "                return day_1_input[x] * day_1_input[begin] * day_1_input[end]\n",
    "            \n",
    "            if val > 2020:\n",
    "                end -= 1\n",
    "            else:\n",
    "                begin += 1\n",
    "        \n",
    "print(day1_part1()) #should be 806656\n",
    "print(day1_part1_()) #should be 806656\n",
    "print(day1_part2()) # should be 230608320\n",
    "print(day1_part2_()) # should be 230608320\n",
    "%timeit day1_part1()\n",
    "%timeit day1_part1_()\n",
    "%timeit day1_part2()\n",
    "%timeit day1_part2_()"
   ]
  }
 ],
 "metadata": {
  "kernelspec": {
   "display_name": "Python 3",
   "language": "python",
   "name": "python3"
  },
  "language_info": {
   "codemirror_mode": {
    "name": "ipython",
    "version": 3
   },
   "file_extension": ".py",
   "mimetype": "text/x-python",
   "name": "python",
   "nbconvert_exporter": "python",
   "pygments_lexer": "ipython3",
   "version": "3.6.4"
  }
 },
 "nbformat": 4,
 "nbformat_minor": 2
}
